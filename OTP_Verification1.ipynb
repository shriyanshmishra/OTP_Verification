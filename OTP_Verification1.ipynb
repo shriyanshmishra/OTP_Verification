{
  "cells": [
    {
      "cell_type": "code",
      "execution_count": 5,
      "metadata": {
        "colab": {
          "base_uri": "https://localhost:8080/"
        },
        "id": "tKNY70gDmmHk",
        "outputId": "f73c971b-e315-4854-e6ed-3b667d7da34a"
      },
      "outputs": [
        {
          "output_type": "stream",
          "name": "stdout",
          "text": [
            "Welcome to the OTP Verification System\n",
            "Enter your email address: 7860arjunk@gmail.com\n",
            "OTP sent successfully to 7860arjunk@gmail.com.\n",
            "Enter the OTP sent to your email: 123456\n",
            "Invalid OTP. You have 2 attempt(s) left.\n",
            "Enter the OTP sent to your email: 345678\n",
            "Invalid OTP. You have 1 attempt(s) left.\n",
            "Enter the OTP sent to your email: 275592\n",
            "Access Granted!\n"
          ]
        }
      ],
      "source": [
        "import random\n",
        "import smtplib\n",
        "from email.mime.text import MIMEText\n",
        "from email.mime.multipart import MIMEMultipart\n",
        "\n",
        "# Function to generate a 6-digit OTP\n",
        "def generate_otp():\n",
        "    return str(random.randint(100000, 999999))\n",
        "\n",
        "# Function to send the OTP via email\n",
        "def send_otp(email, otp):\n",
        "    sender_email = \"7860arjunk@gmail.com\"\n",
        "    sender_password = \"zqrk zroz qwve lmpp\"\n",
        "    subject = \"Your OTP Verification Code\"\n",
        "    body = f\"Your One-Time Password (OTP) is: {otp}\"\n",
        "\n",
        "    msg = MIMEMultipart()\n",
        "    msg['From'] = sender_email\n",
        "    msg['To'] = email\n",
        "    msg['Subject'] = subject\n",
        "    msg.attach(MIMEText(body, 'plain'))\n",
        "\n",
        "    try:\n",
        "        with smtplib.SMTP('smtp.gmail.com', 587) as server:\n",
        "            server.starttls()\n",
        "            server.login(sender_email, sender_password)\n",
        "            server.sendmail(sender_email, email, msg.as_string())\n",
        "            print(f\"OTP sent successfully to {email}.\")\n",
        "    except smtplib.SMTPAuthenticationError as e:\n",
        "        print(\"Authentication Error: Check your email and App Password.\")\n",
        "        print(\"Error details:\", e)\n",
        "    except Exception as e:\n",
        "        print(\"Failed to send email:\", e)\n",
        "\n",
        "# Function to prompt the user to enter the OTP\n",
        "def prompt_user_for_otp():\n",
        "    return input(\"Enter the OTP sent to your email: \")\n",
        "\n",
        "# Function to validate the OTP\n",
        "def validate_otp(input_otp, original_otp):\n",
        "    return input_otp == original_otp\n",
        "\n",
        "# Main function\n",
        "def main():\n",
        "    print(\"Welcome to the OTP Verification System\")\n",
        "    recipient_email = input(\"Enter your email address: \")\n",
        "\n",
        "    # Generate and send OTP\n",
        "    otp = generate_otp()\n",
        "    send_otp(recipient_email, otp)\n",
        "\n",
        "    # Allow the user to enter OTP with retries\n",
        "    attempts = 3\n",
        "    while attempts > 0:\n",
        "        user_otp = prompt_user_for_otp()\n",
        "        if validate_otp(user_otp, otp):\n",
        "            print(\"Access Granted!\")\n",
        "            break\n",
        "        else:\n",
        "            attempts -= 1\n",
        "            if attempts > 0:\n",
        "                print(f\"Invalid OTP. You have {attempts} attempt(s) left.\")\n",
        "            else:\n",
        "                print(\"Access Denied. No attempts left.\")\n",
        "\n",
        "# Run the program\n",
        "if __name__ == \"__main__\":\n",
        "    main()\n"
      ]
    },
    {
      "cell_type": "code",
      "execution_count": null,
      "metadata": {
        "id": "-sY4w0rhm3_a"
      },
      "outputs": [],
      "source": []
    }
  ],
  "metadata": {
    "colab": {
      "provenance": []
    },
    "kernelspec": {
      "display_name": "Python 3",
      "name": "python3"
    },
    "language_info": {
      "name": "python"
    }
  },
  "nbformat": 4,
  "nbformat_minor": 0
}